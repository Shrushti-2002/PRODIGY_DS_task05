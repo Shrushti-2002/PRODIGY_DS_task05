{
  "nbformat": 4,
  "nbformat_minor": 0,
  "metadata": {
    "colab": {
      "provenance": [],
      "authorship_tag": "ABX9TyNM4FP6jO4WkEux0gzvvM7y",
      "include_colab_link": true
    },
    "kernelspec": {
      "name": "python3",
      "display_name": "Python 3"
    },
    "language_info": {
      "name": "python"
    }
  },
  "cells": [
    {
      "cell_type": "markdown",
      "metadata": {
        "id": "view-in-github",
        "colab_type": "text"
      },
      "source": [
        "<a href=\"https://colab.research.google.com/github/Shrushti-2002/PRODIGY_DS_task05/blob/main/task_05.ipynb\" target=\"_parent\"><img src=\"https://colab.research.google.com/assets/colab-badge.svg\" alt=\"Open In Colab\"/></a>"
      ]
    },
    {
      "cell_type": "markdown",
      "source": [
        "# Task 05:- Analyze traffic accident data to identify patterns related to road conditions, weather and time of day. visualize accident hotspots and contributing factors."
      ],
      "metadata": {
        "id": "REAn4udr57pq"
      }
    },
    {
      "cell_type": "code",
      "execution_count": 51,
      "metadata": {
        "id": "YCihLTVo7ynU"
      },
      "outputs": [],
      "source": [
        "import pandas as pd\n",
        "import matplotlib.pyplot as plt\n",
        "import seaborn as sns"
      ]
    },
    {
      "cell_type": "code",
      "source": [
        "# Load the dataset\n",
        "accidents_data = pd.read_csv('traffic_accidents_data.csv')"
      ],
      "metadata": {
        "id": "MRqyitSY8aAq"
      },
      "execution_count": 52,
      "outputs": []
    },
    {
      "cell_type": "code",
      "source": [
        "accidents_data.head()"
      ],
      "metadata": {
        "colab": {
          "base_uri": "https://localhost:8080/",
          "height": 417
        },
        "id": "xVYagqoqw_rK",
        "outputId": "cf1f1a68-1b7b-4d14-fece-795fa2f16ee8"
      },
      "execution_count": 53,
      "outputs": [
        {
          "output_type": "execute_result",
          "data": {
            "text/plain": [
              "         Date      Time  Latitude  Longitude Location Description  \\\n",
              "0  05-01-2022  15:30:00   40.7128   -74.0060              Highway   \n",
              "1  10-02-2022  18:45:00   41.8781   -87.6298               Street   \n",
              "2  15-03-2022  12:00:00   37.7749  -122.4194         Intersection   \n",
              "3  20-04-2022  09:20:00   34.0522  -118.2437              Highway   \n",
              "4  25-05-2022  17:10:00   40.7128   -74.0060               Street   \n",
              "\n",
              "  Weather Conditions Road Conditions Visibility Accident Type Injury Severity  \\\n",
              "0              Foggy             Wet       Poor     Collision        Moderate   \n",
              "1              Rainy             Wet       Poor      Rollover          Severe   \n",
              "2              Clear             Dry      Clear     Collision        Moderate   \n",
              "3              Clear             Dry      Clear     Collision           Minor   \n",
              "4              Rainy             Wet       Poor     Collision          Severe   \n",
              "\n",
              "  Contributing Factors Vehicle Type  No of Vehichles  Vehicle Speed  \\\n",
              "0             Speeding        Truck                1             45   \n",
              "1        Drunk Driving   Motorcycle                1             40   \n",
              "2              Weather          Car                2             25   \n",
              "3                Other          Car                2             35   \n",
              "4             Speeding          Car                1             50   \n",
              "\n",
              "  Day of Week     Month  Year  \n",
              "0   Wednesday   January  2022  \n",
              "1    Thursday  February  2022  \n",
              "2     Tuesday     March  2022  \n",
              "3   Wednesday     April  2022  \n",
              "4   Wednesday       May  2022  "
            ],
            "text/html": [
              "\n",
              "  <div id=\"df-3a169572-4891-4274-af03-99ae5dc4e8ae\" class=\"colab-df-container\">\n",
              "    <div>\n",
              "<style scoped>\n",
              "    .dataframe tbody tr th:only-of-type {\n",
              "        vertical-align: middle;\n",
              "    }\n",
              "\n",
              "    .dataframe tbody tr th {\n",
              "        vertical-align: top;\n",
              "    }\n",
              "\n",
              "    .dataframe thead th {\n",
              "        text-align: right;\n",
              "    }\n",
              "</style>\n",
              "<table border=\"1\" class=\"dataframe\">\n",
              "  <thead>\n",
              "    <tr style=\"text-align: right;\">\n",
              "      <th></th>\n",
              "      <th>Date</th>\n",
              "      <th>Time</th>\n",
              "      <th>Latitude</th>\n",
              "      <th>Longitude</th>\n",
              "      <th>Location Description</th>\n",
              "      <th>Weather Conditions</th>\n",
              "      <th>Road Conditions</th>\n",
              "      <th>Visibility</th>\n",
              "      <th>Accident Type</th>\n",
              "      <th>Injury Severity</th>\n",
              "      <th>Contributing Factors</th>\n",
              "      <th>Vehicle Type</th>\n",
              "      <th>No of Vehichles</th>\n",
              "      <th>Vehicle Speed</th>\n",
              "      <th>Day of Week</th>\n",
              "      <th>Month</th>\n",
              "      <th>Year</th>\n",
              "    </tr>\n",
              "  </thead>\n",
              "  <tbody>\n",
              "    <tr>\n",
              "      <th>0</th>\n",
              "      <td>05-01-2022</td>\n",
              "      <td>15:30:00</td>\n",
              "      <td>40.7128</td>\n",
              "      <td>-74.0060</td>\n",
              "      <td>Highway</td>\n",
              "      <td>Foggy</td>\n",
              "      <td>Wet</td>\n",
              "      <td>Poor</td>\n",
              "      <td>Collision</td>\n",
              "      <td>Moderate</td>\n",
              "      <td>Speeding</td>\n",
              "      <td>Truck</td>\n",
              "      <td>1</td>\n",
              "      <td>45</td>\n",
              "      <td>Wednesday</td>\n",
              "      <td>January</td>\n",
              "      <td>2022</td>\n",
              "    </tr>\n",
              "    <tr>\n",
              "      <th>1</th>\n",
              "      <td>10-02-2022</td>\n",
              "      <td>18:45:00</td>\n",
              "      <td>41.8781</td>\n",
              "      <td>-87.6298</td>\n",
              "      <td>Street</td>\n",
              "      <td>Rainy</td>\n",
              "      <td>Wet</td>\n",
              "      <td>Poor</td>\n",
              "      <td>Rollover</td>\n",
              "      <td>Severe</td>\n",
              "      <td>Drunk Driving</td>\n",
              "      <td>Motorcycle</td>\n",
              "      <td>1</td>\n",
              "      <td>40</td>\n",
              "      <td>Thursday</td>\n",
              "      <td>February</td>\n",
              "      <td>2022</td>\n",
              "    </tr>\n",
              "    <tr>\n",
              "      <th>2</th>\n",
              "      <td>15-03-2022</td>\n",
              "      <td>12:00:00</td>\n",
              "      <td>37.7749</td>\n",
              "      <td>-122.4194</td>\n",
              "      <td>Intersection</td>\n",
              "      <td>Clear</td>\n",
              "      <td>Dry</td>\n",
              "      <td>Clear</td>\n",
              "      <td>Collision</td>\n",
              "      <td>Moderate</td>\n",
              "      <td>Weather</td>\n",
              "      <td>Car</td>\n",
              "      <td>2</td>\n",
              "      <td>25</td>\n",
              "      <td>Tuesday</td>\n",
              "      <td>March</td>\n",
              "      <td>2022</td>\n",
              "    </tr>\n",
              "    <tr>\n",
              "      <th>3</th>\n",
              "      <td>20-04-2022</td>\n",
              "      <td>09:20:00</td>\n",
              "      <td>34.0522</td>\n",
              "      <td>-118.2437</td>\n",
              "      <td>Highway</td>\n",
              "      <td>Clear</td>\n",
              "      <td>Dry</td>\n",
              "      <td>Clear</td>\n",
              "      <td>Collision</td>\n",
              "      <td>Minor</td>\n",
              "      <td>Other</td>\n",
              "      <td>Car</td>\n",
              "      <td>2</td>\n",
              "      <td>35</td>\n",
              "      <td>Wednesday</td>\n",
              "      <td>April</td>\n",
              "      <td>2022</td>\n",
              "    </tr>\n",
              "    <tr>\n",
              "      <th>4</th>\n",
              "      <td>25-05-2022</td>\n",
              "      <td>17:10:00</td>\n",
              "      <td>40.7128</td>\n",
              "      <td>-74.0060</td>\n",
              "      <td>Street</td>\n",
              "      <td>Rainy</td>\n",
              "      <td>Wet</td>\n",
              "      <td>Poor</td>\n",
              "      <td>Collision</td>\n",
              "      <td>Severe</td>\n",
              "      <td>Speeding</td>\n",
              "      <td>Car</td>\n",
              "      <td>1</td>\n",
              "      <td>50</td>\n",
              "      <td>Wednesday</td>\n",
              "      <td>May</td>\n",
              "      <td>2022</td>\n",
              "    </tr>\n",
              "  </tbody>\n",
              "</table>\n",
              "</div>\n",
              "    <div class=\"colab-df-buttons\">\n",
              "\n",
              "  <div class=\"colab-df-container\">\n",
              "    <button class=\"colab-df-convert\" onclick=\"convertToInteractive('df-3a169572-4891-4274-af03-99ae5dc4e8ae')\"\n",
              "            title=\"Convert this dataframe to an interactive table.\"\n",
              "            style=\"display:none;\">\n",
              "\n",
              "  <svg xmlns=\"http://www.w3.org/2000/svg\" height=\"24px\" viewBox=\"0 -960 960 960\">\n",
              "    <path d=\"M120-120v-720h720v720H120Zm60-500h600v-160H180v160Zm220 220h160v-160H400v160Zm0 220h160v-160H400v160ZM180-400h160v-160H180v160Zm440 0h160v-160H620v160ZM180-180h160v-160H180v160Zm440 0h160v-160H620v160Z\"/>\n",
              "  </svg>\n",
              "    </button>\n",
              "\n",
              "  <style>\n",
              "    .colab-df-container {\n",
              "      display:flex;\n",
              "      gap: 12px;\n",
              "    }\n",
              "\n",
              "    .colab-df-convert {\n",
              "      background-color: #E8F0FE;\n",
              "      border: none;\n",
              "      border-radius: 50%;\n",
              "      cursor: pointer;\n",
              "      display: none;\n",
              "      fill: #1967D2;\n",
              "      height: 32px;\n",
              "      padding: 0 0 0 0;\n",
              "      width: 32px;\n",
              "    }\n",
              "\n",
              "    .colab-df-convert:hover {\n",
              "      background-color: #E2EBFA;\n",
              "      box-shadow: 0px 1px 2px rgba(60, 64, 67, 0.3), 0px 1px 3px 1px rgba(60, 64, 67, 0.15);\n",
              "      fill: #174EA6;\n",
              "    }\n",
              "\n",
              "    .colab-df-buttons div {\n",
              "      margin-bottom: 4px;\n",
              "    }\n",
              "\n",
              "    [theme=dark] .colab-df-convert {\n",
              "      background-color: #3B4455;\n",
              "      fill: #D2E3FC;\n",
              "    }\n",
              "\n",
              "    [theme=dark] .colab-df-convert:hover {\n",
              "      background-color: #434B5C;\n",
              "      box-shadow: 0px 1px 3px 1px rgba(0, 0, 0, 0.15);\n",
              "      filter: drop-shadow(0px 1px 2px rgba(0, 0, 0, 0.3));\n",
              "      fill: #FFFFFF;\n",
              "    }\n",
              "  </style>\n",
              "\n",
              "    <script>\n",
              "      const buttonEl =\n",
              "        document.querySelector('#df-3a169572-4891-4274-af03-99ae5dc4e8ae button.colab-df-convert');\n",
              "      buttonEl.style.display =\n",
              "        google.colab.kernel.accessAllowed ? 'block' : 'none';\n",
              "\n",
              "      async function convertToInteractive(key) {\n",
              "        const element = document.querySelector('#df-3a169572-4891-4274-af03-99ae5dc4e8ae');\n",
              "        const dataTable =\n",
              "          await google.colab.kernel.invokeFunction('convertToInteractive',\n",
              "                                                    [key], {});\n",
              "        if (!dataTable) return;\n",
              "\n",
              "        const docLinkHtml = 'Like what you see? Visit the ' +\n",
              "          '<a target=\"_blank\" href=https://colab.research.google.com/notebooks/data_table.ipynb>data table notebook</a>'\n",
              "          + ' to learn more about interactive tables.';\n",
              "        element.innerHTML = '';\n",
              "        dataTable['output_type'] = 'display_data';\n",
              "        await google.colab.output.renderOutput(dataTable, element);\n",
              "        const docLink = document.createElement('div');\n",
              "        docLink.innerHTML = docLinkHtml;\n",
              "        element.appendChild(docLink);\n",
              "      }\n",
              "    </script>\n",
              "  </div>\n",
              "\n",
              "\n",
              "<div id=\"df-0cbb5457-1f93-40a5-b09a-049b7b1a6ee0\">\n",
              "  <button class=\"colab-df-quickchart\" onclick=\"quickchart('df-0cbb5457-1f93-40a5-b09a-049b7b1a6ee0')\"\n",
              "            title=\"Suggest charts\"\n",
              "            style=\"display:none;\">\n",
              "\n",
              "<svg xmlns=\"http://www.w3.org/2000/svg\" height=\"24px\"viewBox=\"0 0 24 24\"\n",
              "     width=\"24px\">\n",
              "    <g>\n",
              "        <path d=\"M19 3H5c-1.1 0-2 .9-2 2v14c0 1.1.9 2 2 2h14c1.1 0 2-.9 2-2V5c0-1.1-.9-2-2-2zM9 17H7v-7h2v7zm4 0h-2V7h2v10zm4 0h-2v-4h2v4z\"/>\n",
              "    </g>\n",
              "</svg>\n",
              "  </button>\n",
              "\n",
              "<style>\n",
              "  .colab-df-quickchart {\n",
              "      --bg-color: #E8F0FE;\n",
              "      --fill-color: #1967D2;\n",
              "      --hover-bg-color: #E2EBFA;\n",
              "      --hover-fill-color: #174EA6;\n",
              "      --disabled-fill-color: #AAA;\n",
              "      --disabled-bg-color: #DDD;\n",
              "  }\n",
              "\n",
              "  [theme=dark] .colab-df-quickchart {\n",
              "      --bg-color: #3B4455;\n",
              "      --fill-color: #D2E3FC;\n",
              "      --hover-bg-color: #434B5C;\n",
              "      --hover-fill-color: #FFFFFF;\n",
              "      --disabled-bg-color: #3B4455;\n",
              "      --disabled-fill-color: #666;\n",
              "  }\n",
              "\n",
              "  .colab-df-quickchart {\n",
              "    background-color: var(--bg-color);\n",
              "    border: none;\n",
              "    border-radius: 50%;\n",
              "    cursor: pointer;\n",
              "    display: none;\n",
              "    fill: var(--fill-color);\n",
              "    height: 32px;\n",
              "    padding: 0;\n",
              "    width: 32px;\n",
              "  }\n",
              "\n",
              "  .colab-df-quickchart:hover {\n",
              "    background-color: var(--hover-bg-color);\n",
              "    box-shadow: 0 1px 2px rgba(60, 64, 67, 0.3), 0 1px 3px 1px rgba(60, 64, 67, 0.15);\n",
              "    fill: var(--button-hover-fill-color);\n",
              "  }\n",
              "\n",
              "  .colab-df-quickchart-complete:disabled,\n",
              "  .colab-df-quickchart-complete:disabled:hover {\n",
              "    background-color: var(--disabled-bg-color);\n",
              "    fill: var(--disabled-fill-color);\n",
              "    box-shadow: none;\n",
              "  }\n",
              "\n",
              "  .colab-df-spinner {\n",
              "    border: 2px solid var(--fill-color);\n",
              "    border-color: transparent;\n",
              "    border-bottom-color: var(--fill-color);\n",
              "    animation:\n",
              "      spin 1s steps(1) infinite;\n",
              "  }\n",
              "\n",
              "  @keyframes spin {\n",
              "    0% {\n",
              "      border-color: transparent;\n",
              "      border-bottom-color: var(--fill-color);\n",
              "      border-left-color: var(--fill-color);\n",
              "    }\n",
              "    20% {\n",
              "      border-color: transparent;\n",
              "      border-left-color: var(--fill-color);\n",
              "      border-top-color: var(--fill-color);\n",
              "    }\n",
              "    30% {\n",
              "      border-color: transparent;\n",
              "      border-left-color: var(--fill-color);\n",
              "      border-top-color: var(--fill-color);\n",
              "      border-right-color: var(--fill-color);\n",
              "    }\n",
              "    40% {\n",
              "      border-color: transparent;\n",
              "      border-right-color: var(--fill-color);\n",
              "      border-top-color: var(--fill-color);\n",
              "    }\n",
              "    60% {\n",
              "      border-color: transparent;\n",
              "      border-right-color: var(--fill-color);\n",
              "    }\n",
              "    80% {\n",
              "      border-color: transparent;\n",
              "      border-right-color: var(--fill-color);\n",
              "      border-bottom-color: var(--fill-color);\n",
              "    }\n",
              "    90% {\n",
              "      border-color: transparent;\n",
              "      border-bottom-color: var(--fill-color);\n",
              "    }\n",
              "  }\n",
              "</style>\n",
              "\n",
              "  <script>\n",
              "    async function quickchart(key) {\n",
              "      const quickchartButtonEl =\n",
              "        document.querySelector('#' + key + ' button');\n",
              "      quickchartButtonEl.disabled = true;  // To prevent multiple clicks.\n",
              "      quickchartButtonEl.classList.add('colab-df-spinner');\n",
              "      try {\n",
              "        const charts = await google.colab.kernel.invokeFunction(\n",
              "            'suggestCharts', [key], {});\n",
              "      } catch (error) {\n",
              "        console.error('Error during call to suggestCharts:', error);\n",
              "      }\n",
              "      quickchartButtonEl.classList.remove('colab-df-spinner');\n",
              "      quickchartButtonEl.classList.add('colab-df-quickchart-complete');\n",
              "    }\n",
              "    (() => {\n",
              "      let quickchartButtonEl =\n",
              "        document.querySelector('#df-0cbb5457-1f93-40a5-b09a-049b7b1a6ee0 button');\n",
              "      quickchartButtonEl.style.display =\n",
              "        google.colab.kernel.accessAllowed ? 'block' : 'none';\n",
              "    })();\n",
              "  </script>\n",
              "</div>\n",
              "\n",
              "    </div>\n",
              "  </div>\n"
            ],
            "application/vnd.google.colaboratory.intrinsic+json": {
              "type": "dataframe",
              "variable_name": "accidents_data",
              "summary": "{\n  \"name\": \"accidents_data\",\n  \"rows\": 147,\n  \"fields\": [\n    {\n      \"column\": \"Date\",\n      \"properties\": {\n        \"dtype\": \"object\",\n        \"num_unique_values\": 37,\n        \"samples\": [\n          \"30-06-2023\",\n          \"10-02-2023\",\n          \"25-05-2022\"\n        ],\n        \"semantic_type\": \"\",\n        \"description\": \"\"\n      }\n    },\n    {\n      \"column\": \"Time\",\n      \"properties\": {\n        \"dtype\": \"object\",\n        \"num_unique_values\": 13,\n        \"samples\": [\n          \"10:00:00\",\n          \"16:20:00\",\n          \"15:30:00\"\n        ],\n        \"semantic_type\": \"\",\n        \"description\": \"\"\n      }\n    },\n    {\n      \"column\": \"Latitude\",\n      \"properties\": {\n        \"dtype\": \"number\",\n        \"std\": 3.197276179766866,\n        \"min\": 34.0522,\n        \"max\": 41.8781,\n        \"num_unique_values\": 4,\n        \"samples\": [\n          41.8781,\n          34.0522,\n          40.7128\n        ],\n        \"semantic_type\": \"\",\n        \"description\": \"\"\n      }\n    },\n    {\n      \"column\": \"Longitude\",\n      \"properties\": {\n        \"dtype\": \"number\",\n        \"std\": 20.96240562695873,\n        \"min\": -122.4194,\n        \"max\": -74.006,\n        \"num_unique_values\": 4,\n        \"samples\": [\n          -87.6298,\n          -118.2437,\n          -74.006\n        ],\n        \"semantic_type\": \"\",\n        \"description\": \"\"\n      }\n    },\n    {\n      \"column\": \"Location Description\",\n      \"properties\": {\n        \"dtype\": \"category\",\n        \"num_unique_values\": 3,\n        \"samples\": [\n          \"Highway\",\n          \"Street\",\n          \"Intersection\"\n        ],\n        \"semantic_type\": \"\",\n        \"description\": \"\"\n      }\n    },\n    {\n      \"column\": \"Weather Conditions\",\n      \"properties\": {\n        \"dtype\": \"category\",\n        \"num_unique_values\": 3,\n        \"samples\": [\n          \"Foggy\",\n          \"Rainy\",\n          \"Clear\"\n        ],\n        \"semantic_type\": \"\",\n        \"description\": \"\"\n      }\n    },\n    {\n      \"column\": \"Road Conditions\",\n      \"properties\": {\n        \"dtype\": \"category\",\n        \"num_unique_values\": 2,\n        \"samples\": [\n          \"Dry\",\n          \"Wet\"\n        ],\n        \"semantic_type\": \"\",\n        \"description\": \"\"\n      }\n    },\n    {\n      \"column\": \"Visibility\",\n      \"properties\": {\n        \"dtype\": \"category\",\n        \"num_unique_values\": 2,\n        \"samples\": [\n          \"Clear\",\n          \"Poor\"\n        ],\n        \"semantic_type\": \"\",\n        \"description\": \"\"\n      }\n    },\n    {\n      \"column\": \"Accident Type\",\n      \"properties\": {\n        \"dtype\": \"category\",\n        \"num_unique_values\": 2,\n        \"samples\": [\n          \"Rollover\",\n          \"Collision\"\n        ],\n        \"semantic_type\": \"\",\n        \"description\": \"\"\n      }\n    },\n    {\n      \"column\": \"Injury Severity\",\n      \"properties\": {\n        \"dtype\": \"category\",\n        \"num_unique_values\": 3,\n        \"samples\": [\n          \"Moderate\",\n          \"Severe\"\n        ],\n        \"semantic_type\": \"\",\n        \"description\": \"\"\n      }\n    },\n    {\n      \"column\": \"Contributing Factors\",\n      \"properties\": {\n        \"dtype\": \"category\",\n        \"num_unique_values\": 5,\n        \"samples\": [\n          \"Drunk Driving\",\n          \"Distracted Driving\"\n        ],\n        \"semantic_type\": \"\",\n        \"description\": \"\"\n      }\n    },\n    {\n      \"column\": \"Vehicle Type\",\n      \"properties\": {\n        \"dtype\": \"category\",\n        \"num_unique_values\": 3,\n        \"samples\": [\n          \"Truck\",\n          \"Motorcycle\"\n        ],\n        \"semantic_type\": \"\",\n        \"description\": \"\"\n      }\n    },\n    {\n      \"column\": \"No of Vehichles\",\n      \"properties\": {\n        \"dtype\": \"number\",\n        \"std\": 0,\n        \"min\": 1,\n        \"max\": 2,\n        \"num_unique_values\": 2,\n        \"samples\": [\n          2,\n          1\n        ],\n        \"semantic_type\": \"\",\n        \"description\": \"\"\n      }\n    },\n    {\n      \"column\": \"Vehicle Speed\",\n      \"properties\": {\n        \"dtype\": \"number\",\n        \"std\": 8,\n        \"min\": 25,\n        \"max\": 55,\n        \"num_unique_values\": 7,\n        \"samples\": [\n          45,\n          40\n        ],\n        \"semantic_type\": \"\",\n        \"description\": \"\"\n      }\n    },\n    {\n      \"column\": \"Day of Week\",\n      \"properties\": {\n        \"dtype\": \"category\",\n        \"num_unique_values\": 4,\n        \"samples\": [\n          \"Thursday\",\n          \"Monday\"\n        ],\n        \"semantic_type\": \"\",\n        \"description\": \"\"\n      }\n    },\n    {\n      \"column\": \"Month\",\n      \"properties\": {\n        \"dtype\": \"category\",\n        \"num_unique_values\": 12,\n        \"samples\": [\n          \"November\",\n          \"October\"\n        ],\n        \"semantic_type\": \"\",\n        \"description\": \"\"\n      }\n    },\n    {\n      \"column\": \"Year\",\n      \"properties\": {\n        \"dtype\": \"number\",\n        \"std\": 0,\n        \"min\": 2022,\n        \"max\": 2024,\n        \"num_unique_values\": 3,\n        \"samples\": [\n          2022,\n          2023\n        ],\n        \"semantic_type\": \"\",\n        \"description\": \"\"\n      }\n    }\n  ]\n}"
            }
          },
          "metadata": {},
          "execution_count": 53
        }
      ]
    },
    {
      "cell_type": "code",
      "source": [
        "accidents_data.shape"
      ],
      "metadata": {
        "colab": {
          "base_uri": "https://localhost:8080/"
        },
        "id": "hJAy56TfxFO5",
        "outputId": "50b395a9-92fd-4fda-bad7-435a182d6ac9"
      },
      "execution_count": 54,
      "outputs": [
        {
          "output_type": "execute_result",
          "data": {
            "text/plain": [
              "(147, 17)"
            ]
          },
          "metadata": {},
          "execution_count": 54
        }
      ]
    },
    {
      "cell_type": "code",
      "source": [
        "accidents_data.columns"
      ],
      "metadata": {
        "colab": {
          "base_uri": "https://localhost:8080/"
        },
        "id": "MbI1moFixJhA",
        "outputId": "210f7bcf-8514-48b1-ebde-00824f4b6d14"
      },
      "execution_count": 55,
      "outputs": [
        {
          "output_type": "execute_result",
          "data": {
            "text/plain": [
              "Index(['Date', 'Time', 'Latitude', 'Longitude', 'Location Description',\n",
              "       'Weather Conditions', 'Road Conditions', 'Visibility', 'Accident Type',\n",
              "       'Injury Severity', 'Contributing Factors', 'Vehicle Type',\n",
              "       'No of Vehichles', 'Vehicle Speed', 'Day of Week', 'Month', 'Year'],\n",
              "      dtype='object')"
            ]
          },
          "metadata": {},
          "execution_count": 55
        }
      ]
    },
    {
      "cell_type": "code",
      "source": [
        "accidents_data.info()"
      ],
      "metadata": {
        "colab": {
          "base_uri": "https://localhost:8080/"
        },
        "id": "n2FTuhVGxQXF",
        "outputId": "e07263e4-b91b-4e1f-d1a1-c926bfcf7c1e"
      },
      "execution_count": 56,
      "outputs": [
        {
          "output_type": "stream",
          "name": "stdout",
          "text": [
            "<class 'pandas.core.frame.DataFrame'>\n",
            "RangeIndex: 147 entries, 0 to 146\n",
            "Data columns (total 17 columns):\n",
            " #   Column                Non-Null Count  Dtype  \n",
            "---  ------                --------------  -----  \n",
            " 0   Date                  147 non-null    object \n",
            " 1   Time                  147 non-null    object \n",
            " 2   Latitude              147 non-null    float64\n",
            " 3   Longitude             147 non-null    float64\n",
            " 4   Location Description  147 non-null    object \n",
            " 5   Weather Conditions    147 non-null    object \n",
            " 6   Road Conditions       147 non-null    object \n",
            " 7   Visibility            147 non-null    object \n",
            " 8   Accident Type         147 non-null    object \n",
            " 9   Injury Severity       147 non-null    object \n",
            " 10  Contributing Factors  147 non-null    object \n",
            " 11  Vehicle Type          147 non-null    object \n",
            " 12  No of Vehichles       147 non-null    int64  \n",
            " 13  Vehicle Speed         147 non-null    int64  \n",
            " 14  Day of Week           147 non-null    object \n",
            " 15  Month                 147 non-null    object \n",
            " 16  Year                  147 non-null    int64  \n",
            "dtypes: float64(2), int64(3), object(12)\n",
            "memory usage: 19.6+ KB\n"
          ]
        }
      ]
    },
    {
      "cell_type": "code",
      "source": [
        "accidents_data.dtypes"
      ],
      "metadata": {
        "colab": {
          "base_uri": "https://localhost:8080/"
        },
        "id": "s0IpkfMWxWFd",
        "outputId": "4ab79965-a1d0-48b0-c71b-48c818bb223d"
      },
      "execution_count": 57,
      "outputs": [
        {
          "output_type": "execute_result",
          "data": {
            "text/plain": [
              "Date                     object\n",
              "Time                     object\n",
              "Latitude                float64\n",
              "Longitude               float64\n",
              "Location Description     object\n",
              "Weather Conditions       object\n",
              "Road Conditions          object\n",
              "Visibility               object\n",
              "Accident Type            object\n",
              "Injury Severity          object\n",
              "Contributing Factors     object\n",
              "Vehicle Type             object\n",
              "No of Vehichles           int64\n",
              "Vehicle Speed             int64\n",
              "Day of Week              object\n",
              "Month                    object\n",
              "Year                      int64\n",
              "dtype: object"
            ]
          },
          "metadata": {},
          "execution_count": 57
        }
      ]
    },
    {
      "cell_type": "code",
      "source": [
        "accidents_data.describe()"
      ],
      "metadata": {
        "colab": {
          "base_uri": "https://localhost:8080/",
          "height": 300
        },
        "id": "VFS9LNUW1zi-",
        "outputId": "b5e81858-4393-4c00-94ae-e5b21b9a4622"
      },
      "execution_count": 58,
      "outputs": [
        {
          "output_type": "execute_result",
          "data": {
            "text/plain": [
              "         Latitude   Longitude  No of Vehichles  Vehicle Speed         Year\n",
              "count  147.000000  147.000000       147.000000     147.000000   147.000000\n",
              "mean    38.325525  -98.649265         1.428571      38.843537  2022.979592\n",
              "std      3.197276   20.962406         0.496564       8.110285     0.823203\n",
              "min     34.052200 -122.419400         1.000000      25.000000  2022.000000\n",
              "25%     34.052200 -118.243700         1.000000      30.000000  2022.000000\n",
              "50%     40.712800  -87.629800         1.000000      35.000000  2023.000000\n",
              "75%     40.712800  -74.006000         2.000000      45.000000  2024.000000\n",
              "max     41.878100  -74.006000         2.000000      55.000000  2024.000000"
            ],
            "text/html": [
              "\n",
              "  <div id=\"df-66aeb369-03dd-4a28-b5cb-249b749f73a9\" class=\"colab-df-container\">\n",
              "    <div>\n",
              "<style scoped>\n",
              "    .dataframe tbody tr th:only-of-type {\n",
              "        vertical-align: middle;\n",
              "    }\n",
              "\n",
              "    .dataframe tbody tr th {\n",
              "        vertical-align: top;\n",
              "    }\n",
              "\n",
              "    .dataframe thead th {\n",
              "        text-align: right;\n",
              "    }\n",
              "</style>\n",
              "<table border=\"1\" class=\"dataframe\">\n",
              "  <thead>\n",
              "    <tr style=\"text-align: right;\">\n",
              "      <th></th>\n",
              "      <th>Latitude</th>\n",
              "      <th>Longitude</th>\n",
              "      <th>No of Vehichles</th>\n",
              "      <th>Vehicle Speed</th>\n",
              "      <th>Year</th>\n",
              "    </tr>\n",
              "  </thead>\n",
              "  <tbody>\n",
              "    <tr>\n",
              "      <th>count</th>\n",
              "      <td>147.000000</td>\n",
              "      <td>147.000000</td>\n",
              "      <td>147.000000</td>\n",
              "      <td>147.000000</td>\n",
              "      <td>147.000000</td>\n",
              "    </tr>\n",
              "    <tr>\n",
              "      <th>mean</th>\n",
              "      <td>38.325525</td>\n",
              "      <td>-98.649265</td>\n",
              "      <td>1.428571</td>\n",
              "      <td>38.843537</td>\n",
              "      <td>2022.979592</td>\n",
              "    </tr>\n",
              "    <tr>\n",
              "      <th>std</th>\n",
              "      <td>3.197276</td>\n",
              "      <td>20.962406</td>\n",
              "      <td>0.496564</td>\n",
              "      <td>8.110285</td>\n",
              "      <td>0.823203</td>\n",
              "    </tr>\n",
              "    <tr>\n",
              "      <th>min</th>\n",
              "      <td>34.052200</td>\n",
              "      <td>-122.419400</td>\n",
              "      <td>1.000000</td>\n",
              "      <td>25.000000</td>\n",
              "      <td>2022.000000</td>\n",
              "    </tr>\n",
              "    <tr>\n",
              "      <th>25%</th>\n",
              "      <td>34.052200</td>\n",
              "      <td>-118.243700</td>\n",
              "      <td>1.000000</td>\n",
              "      <td>30.000000</td>\n",
              "      <td>2022.000000</td>\n",
              "    </tr>\n",
              "    <tr>\n",
              "      <th>50%</th>\n",
              "      <td>40.712800</td>\n",
              "      <td>-87.629800</td>\n",
              "      <td>1.000000</td>\n",
              "      <td>35.000000</td>\n",
              "      <td>2023.000000</td>\n",
              "    </tr>\n",
              "    <tr>\n",
              "      <th>75%</th>\n",
              "      <td>40.712800</td>\n",
              "      <td>-74.006000</td>\n",
              "      <td>2.000000</td>\n",
              "      <td>45.000000</td>\n",
              "      <td>2024.000000</td>\n",
              "    </tr>\n",
              "    <tr>\n",
              "      <th>max</th>\n",
              "      <td>41.878100</td>\n",
              "      <td>-74.006000</td>\n",
              "      <td>2.000000</td>\n",
              "      <td>55.000000</td>\n",
              "      <td>2024.000000</td>\n",
              "    </tr>\n",
              "  </tbody>\n",
              "</table>\n",
              "</div>\n",
              "    <div class=\"colab-df-buttons\">\n",
              "\n",
              "  <div class=\"colab-df-container\">\n",
              "    <button class=\"colab-df-convert\" onclick=\"convertToInteractive('df-66aeb369-03dd-4a28-b5cb-249b749f73a9')\"\n",
              "            title=\"Convert this dataframe to an interactive table.\"\n",
              "            style=\"display:none;\">\n",
              "\n",
              "  <svg xmlns=\"http://www.w3.org/2000/svg\" height=\"24px\" viewBox=\"0 -960 960 960\">\n",
              "    <path d=\"M120-120v-720h720v720H120Zm60-500h600v-160H180v160Zm220 220h160v-160H400v160Zm0 220h160v-160H400v160ZM180-400h160v-160H180v160Zm440 0h160v-160H620v160ZM180-180h160v-160H180v160Zm440 0h160v-160H620v160Z\"/>\n",
              "  </svg>\n",
              "    </button>\n",
              "\n",
              "  <style>\n",
              "    .colab-df-container {\n",
              "      display:flex;\n",
              "      gap: 12px;\n",
              "    }\n",
              "\n",
              "    .colab-df-convert {\n",
              "      background-color: #E8F0FE;\n",
              "      border: none;\n",
              "      border-radius: 50%;\n",
              "      cursor: pointer;\n",
              "      display: none;\n",
              "      fill: #1967D2;\n",
              "      height: 32px;\n",
              "      padding: 0 0 0 0;\n",
              "      width: 32px;\n",
              "    }\n",
              "\n",
              "    .colab-df-convert:hover {\n",
              "      background-color: #E2EBFA;\n",
              "      box-shadow: 0px 1px 2px rgba(60, 64, 67, 0.3), 0px 1px 3px 1px rgba(60, 64, 67, 0.15);\n",
              "      fill: #174EA6;\n",
              "    }\n",
              "\n",
              "    .colab-df-buttons div {\n",
              "      margin-bottom: 4px;\n",
              "    }\n",
              "\n",
              "    [theme=dark] .colab-df-convert {\n",
              "      background-color: #3B4455;\n",
              "      fill: #D2E3FC;\n",
              "    }\n",
              "\n",
              "    [theme=dark] .colab-df-convert:hover {\n",
              "      background-color: #434B5C;\n",
              "      box-shadow: 0px 1px 3px 1px rgba(0, 0, 0, 0.15);\n",
              "      filter: drop-shadow(0px 1px 2px rgba(0, 0, 0, 0.3));\n",
              "      fill: #FFFFFF;\n",
              "    }\n",
              "  </style>\n",
              "\n",
              "    <script>\n",
              "      const buttonEl =\n",
              "        document.querySelector('#df-66aeb369-03dd-4a28-b5cb-249b749f73a9 button.colab-df-convert');\n",
              "      buttonEl.style.display =\n",
              "        google.colab.kernel.accessAllowed ? 'block' : 'none';\n",
              "\n",
              "      async function convertToInteractive(key) {\n",
              "        const element = document.querySelector('#df-66aeb369-03dd-4a28-b5cb-249b749f73a9');\n",
              "        const dataTable =\n",
              "          await google.colab.kernel.invokeFunction('convertToInteractive',\n",
              "                                                    [key], {});\n",
              "        if (!dataTable) return;\n",
              "\n",
              "        const docLinkHtml = 'Like what you see? Visit the ' +\n",
              "          '<a target=\"_blank\" href=https://colab.research.google.com/notebooks/data_table.ipynb>data table notebook</a>'\n",
              "          + ' to learn more about interactive tables.';\n",
              "        element.innerHTML = '';\n",
              "        dataTable['output_type'] = 'display_data';\n",
              "        await google.colab.output.renderOutput(dataTable, element);\n",
              "        const docLink = document.createElement('div');\n",
              "        docLink.innerHTML = docLinkHtml;\n",
              "        element.appendChild(docLink);\n",
              "      }\n",
              "    </script>\n",
              "  </div>\n",
              "\n",
              "\n",
              "<div id=\"df-1f239b68-d888-4ab1-8277-d38cca9b5592\">\n",
              "  <button class=\"colab-df-quickchart\" onclick=\"quickchart('df-1f239b68-d888-4ab1-8277-d38cca9b5592')\"\n",
              "            title=\"Suggest charts\"\n",
              "            style=\"display:none;\">\n",
              "\n",
              "<svg xmlns=\"http://www.w3.org/2000/svg\" height=\"24px\"viewBox=\"0 0 24 24\"\n",
              "     width=\"24px\">\n",
              "    <g>\n",
              "        <path d=\"M19 3H5c-1.1 0-2 .9-2 2v14c0 1.1.9 2 2 2h14c1.1 0 2-.9 2-2V5c0-1.1-.9-2-2-2zM9 17H7v-7h2v7zm4 0h-2V7h2v10zm4 0h-2v-4h2v4z\"/>\n",
              "    </g>\n",
              "</svg>\n",
              "  </button>\n",
              "\n",
              "<style>\n",
              "  .colab-df-quickchart {\n",
              "      --bg-color: #E8F0FE;\n",
              "      --fill-color: #1967D2;\n",
              "      --hover-bg-color: #E2EBFA;\n",
              "      --hover-fill-color: #174EA6;\n",
              "      --disabled-fill-color: #AAA;\n",
              "      --disabled-bg-color: #DDD;\n",
              "  }\n",
              "\n",
              "  [theme=dark] .colab-df-quickchart {\n",
              "      --bg-color: #3B4455;\n",
              "      --fill-color: #D2E3FC;\n",
              "      --hover-bg-color: #434B5C;\n",
              "      --hover-fill-color: #FFFFFF;\n",
              "      --disabled-bg-color: #3B4455;\n",
              "      --disabled-fill-color: #666;\n",
              "  }\n",
              "\n",
              "  .colab-df-quickchart {\n",
              "    background-color: var(--bg-color);\n",
              "    border: none;\n",
              "    border-radius: 50%;\n",
              "    cursor: pointer;\n",
              "    display: none;\n",
              "    fill: var(--fill-color);\n",
              "    height: 32px;\n",
              "    padding: 0;\n",
              "    width: 32px;\n",
              "  }\n",
              "\n",
              "  .colab-df-quickchart:hover {\n",
              "    background-color: var(--hover-bg-color);\n",
              "    box-shadow: 0 1px 2px rgba(60, 64, 67, 0.3), 0 1px 3px 1px rgba(60, 64, 67, 0.15);\n",
              "    fill: var(--button-hover-fill-color);\n",
              "  }\n",
              "\n",
              "  .colab-df-quickchart-complete:disabled,\n",
              "  .colab-df-quickchart-complete:disabled:hover {\n",
              "    background-color: var(--disabled-bg-color);\n",
              "    fill: var(--disabled-fill-color);\n",
              "    box-shadow: none;\n",
              "  }\n",
              "\n",
              "  .colab-df-spinner {\n",
              "    border: 2px solid var(--fill-color);\n",
              "    border-color: transparent;\n",
              "    border-bottom-color: var(--fill-color);\n",
              "    animation:\n",
              "      spin 1s steps(1) infinite;\n",
              "  }\n",
              "\n",
              "  @keyframes spin {\n",
              "    0% {\n",
              "      border-color: transparent;\n",
              "      border-bottom-color: var(--fill-color);\n",
              "      border-left-color: var(--fill-color);\n",
              "    }\n",
              "    20% {\n",
              "      border-color: transparent;\n",
              "      border-left-color: var(--fill-color);\n",
              "      border-top-color: var(--fill-color);\n",
              "    }\n",
              "    30% {\n",
              "      border-color: transparent;\n",
              "      border-left-color: var(--fill-color);\n",
              "      border-top-color: var(--fill-color);\n",
              "      border-right-color: var(--fill-color);\n",
              "    }\n",
              "    40% {\n",
              "      border-color: transparent;\n",
              "      border-right-color: var(--fill-color);\n",
              "      border-top-color: var(--fill-color);\n",
              "    }\n",
              "    60% {\n",
              "      border-color: transparent;\n",
              "      border-right-color: var(--fill-color);\n",
              "    }\n",
              "    80% {\n",
              "      border-color: transparent;\n",
              "      border-right-color: var(--fill-color);\n",
              "      border-bottom-color: var(--fill-color);\n",
              "    }\n",
              "    90% {\n",
              "      border-color: transparent;\n",
              "      border-bottom-color: var(--fill-color);\n",
              "    }\n",
              "  }\n",
              "</style>\n",
              "\n",
              "  <script>\n",
              "    async function quickchart(key) {\n",
              "      const quickchartButtonEl =\n",
              "        document.querySelector('#' + key + ' button');\n",
              "      quickchartButtonEl.disabled = true;  // To prevent multiple clicks.\n",
              "      quickchartButtonEl.classList.add('colab-df-spinner');\n",
              "      try {\n",
              "        const charts = await google.colab.kernel.invokeFunction(\n",
              "            'suggestCharts', [key], {});\n",
              "      } catch (error) {\n",
              "        console.error('Error during call to suggestCharts:', error);\n",
              "      }\n",
              "      quickchartButtonEl.classList.remove('colab-df-spinner');\n",
              "      quickchartButtonEl.classList.add('colab-df-quickchart-complete');\n",
              "    }\n",
              "    (() => {\n",
              "      let quickchartButtonEl =\n",
              "        document.querySelector('#df-1f239b68-d888-4ab1-8277-d38cca9b5592 button');\n",
              "      quickchartButtonEl.style.display =\n",
              "        google.colab.kernel.accessAllowed ? 'block' : 'none';\n",
              "    })();\n",
              "  </script>\n",
              "</div>\n",
              "\n",
              "    </div>\n",
              "  </div>\n"
            ],
            "application/vnd.google.colaboratory.intrinsic+json": {
              "type": "dataframe",
              "summary": "{\n  \"name\": \"accidents_data\",\n  \"rows\": 8,\n  \"fields\": [\n    {\n      \"column\": \"Latitude\",\n      \"properties\": {\n        \"dtype\": \"number\",\n        \"std\": 42.14359179627767,\n        \"min\": 3.197276179766866,\n        \"max\": 147.0,\n        \"num_unique_values\": 6,\n        \"samples\": [\n          147.0,\n          38.325525170068026,\n          41.8781\n        ],\n        \"semantic_type\": \"\",\n        \"description\": \"\"\n      }\n    },\n    {\n      \"column\": \"Longitude\",\n      \"properties\": {\n        \"dtype\": \"number\",\n        \"std\": 91.55455312104029,\n        \"min\": -122.4194,\n        \"max\": 147.0,\n        \"num_unique_values\": 7,\n        \"samples\": [\n          147.0,\n          -98.64926462585034,\n          -87.6298\n        ],\n        \"semantic_type\": \"\",\n        \"description\": \"\"\n      }\n    },\n    {\n      \"column\": \"No of Vehichles\",\n      \"properties\": {\n        \"dtype\": \"number\",\n        \"std\": 51.52420572280936,\n        \"min\": 0.49656353316142077,\n        \"max\": 147.0,\n        \"num_unique_values\": 5,\n        \"samples\": [\n          1.4285714285714286,\n          2.0,\n          0.49656353316142077\n        ],\n        \"semantic_type\": \"\",\n        \"description\": \"\"\n      }\n    },\n    {\n      \"column\": \"Vehicle Speed\",\n      \"properties\": {\n        \"dtype\": \"number\",\n        \"std\": 42.35231467596073,\n        \"min\": 8.110284930109616,\n        \"max\": 147.0,\n        \"num_unique_values\": 8,\n        \"samples\": [\n          38.843537414965986,\n          35.0,\n          147.0\n        ],\n        \"semantic_type\": \"\",\n        \"description\": \"\"\n      }\n    },\n    {\n      \"column\": \"Year\",\n      \"properties\": {\n        \"dtype\": \"number\",\n        \"std\": 903.0967609975763,\n        \"min\": 0.8232027975901819,\n        \"max\": 2024.0,\n        \"num_unique_values\": 6,\n        \"samples\": [\n          147.0,\n          2022.9795918367347,\n          2024.0\n        ],\n        \"semantic_type\": \"\",\n        \"description\": \"\"\n      }\n    }\n  ]\n}"
            }
          },
          "metadata": {},
          "execution_count": 58
        }
      ]
    },
    {
      "cell_type": "code",
      "source": [
        "# Step 1: Handling Missing Values\n",
        "accidents_data.isnull().sum()"
      ],
      "metadata": {
        "id": "VZTKlZs0E6S-",
        "colab": {
          "base_uri": "https://localhost:8080/"
        },
        "outputId": "88b0ad9b-2b31-4f33-e127-09abb9a80d2d"
      },
      "execution_count": 59,
      "outputs": [
        {
          "output_type": "execute_result",
          "data": {
            "text/plain": [
              "Date                    0\n",
              "Time                    0\n",
              "Latitude                0\n",
              "Longitude               0\n",
              "Location Description    0\n",
              "Weather Conditions      0\n",
              "Road Conditions         0\n",
              "Visibility              0\n",
              "Accident Type           0\n",
              "Injury Severity         0\n",
              "Contributing Factors    0\n",
              "Vehicle Type            0\n",
              "No of Vehichles         0\n",
              "Vehicle Speed           0\n",
              "Day of Week             0\n",
              "Month                   0\n",
              "Year                    0\n",
              "dtype: int64"
            ]
          },
          "metadata": {},
          "execution_count": 59
        }
      ]
    },
    {
      "cell_type": "code",
      "source": [
        "# Step 2: Handling Duplicates\n",
        "# Drop duplicate rows\n",
        "accidents_data.drop_duplicates(inplace=True)"
      ],
      "metadata": {
        "id": "rL4ljx-NFXBW"
      },
      "execution_count": 60,
      "outputs": []
    },
    {
      "cell_type": "code",
      "source": [
        "# Convert 'Date' and 'Time' columns to datetime format\n",
        "accidents_data['DateTime'] = pd.to_datetime(accidents_data['Date'] + ' ' + accidents_data['Time'])\n",
        "\n",
        "# Set 'DateTime' as the index\n",
        "accidents_data.set_index('DateTime', inplace=True)"
      ],
      "metadata": {
        "id": "hKfCOBvK2Q-x"
      },
      "execution_count": 61,
      "outputs": []
    },
    {
      "cell_type": "code",
      "source": [
        "# Accident Hotspots (Location)\n",
        "sns.scatterplot(x='Longitude', y='Latitude', data=accidents_data, alpha=0.1)\n",
        "plt.title('Accident Hotspots')\n",
        "plt.xlabel('Longitude')\n",
        "plt.ylabel('Latitude')\n",
        "plt.show()"
      ],
      "metadata": {
        "colab": {
          "base_uri": "https://localhost:8080/",
          "height": 472
        },
        "id": "PVo5mY7l1SyE",
        "outputId": "54d026ca-5e80-4fbf-8621-2479d5d01139"
      },
      "execution_count": 62,
      "outputs": [
        {
          "output_type": "display_data",
          "data": {
            "text/plain": [
              "<Figure size 640x480 with 1 Axes>"
            ],
            "image/png": "[encoded data removed]"
          },
          "metadata": {}
        }
      ]
    },
    {
      "cell_type": "code",
      "source": [
        "# Road Conditions vs. Accident Count\n",
        "plt.figure(figsize=(10, 6))\n",
        "sns.countplot(x='Road Conditions', data=accidents_data)\n",
        "plt.title('Accidents by Road Conditions')\n",
        "plt.xlabel('Road Conditions')\n",
        "plt.ylabel('Accident Count')\n",
        "plt.show()"
      ],
      "metadata": {
        "colab": {
          "base_uri": "https://localhost:8080/",
          "height": 564
        },
        "id": "mFXPjy2d2qBx",
        "outputId": "c8f699f8-a0d6-49f2-8398-5a92e9c75087"
      },
      "execution_count": 63,
      "outputs": [
        {
          "output_type": "display_data",
          "data": {
            "text/plain": [
              "<Figure size 1000x600 with 1 Axes>"
            ],
            "image/png": "[encoded data removed]"
          },
          "metadata": {}
        }
      ]
    },
    {
      "cell_type": "code",
      "source": [
        "# Weather vs. Accident Count\n",
        "plt.figure(figsize=(10, 6))\n",
        "sns.countplot(x='Weather Conditions', data=accidents_data)\n",
        "plt.title('Accidents by Weather')\n",
        "plt.xlabel('Weather')\n",
        "plt.ylabel('Accident Count')\n",
        "plt.show()"
      ],
      "metadata": {
        "colab": {
          "base_uri": "https://localhost:8080/",
          "height": 564
        },
        "id": "vMgtDeA72ybO",
        "outputId": "3d7de6e2-cfc6-419d-d925-4f314570bc25"
      },
      "execution_count": 64,
      "outputs": [
        {
          "output_type": "display_data",
          "data": {
            "text/plain": [
              "<Figure size 1000x600 with 1 Axes>"
            ],
            "image/png": "[encoded data removed]"
          },
          "metadata": {}
        }
      ]
    },
    {
      "cell_type": "code",
      "source": [
        "# Time of Day vs. Accident Count\n",
        "plt.figure(figsize=(10, 6))\n",
        "sns.countplot(x='Time', data=accidents_data)\n",
        "plt.title('Accidents by Time of Day')\n",
        "plt.xlabel('Time of Day')\n",
        "plt.ylabel('Accident Count')\n",
        "plt.show()"
      ],
      "metadata": {
        "colab": {
          "base_uri": "https://localhost:8080/",
          "height": 564
        },
        "id": "AsawrPSF3Bi-",
        "outputId": "b1a9f231-b4e3-4e5c-d848-0b5335557614"
      },
      "execution_count": 65,
      "outputs": [
        {
          "output_type": "display_data",
          "data": {
            "text/plain": [
              "<Figure size 1000x600 with 1 Axes>"
            ],
            "image/png": "[encoded data removed]"
          },
          "metadata": {}
        }
      ]
    },
    {
      "cell_type": "code",
      "source": [
        "# Distribution of accidents based on month\n",
        "plt.figure(figsize=(10, 6))\n",
        "accidents_data.index.month.value_counts().sort_index().plot(kind='bar',color=\"cyan\")\n",
        "plt.title('Distribution of Accidents based on Month')\n",
        "plt.xlabel('Month')\n",
        "plt.ylabel('Number of Accidents')\n",
        "plt.xticks(range(1, 13), ['January', 'February', 'March', 'April', 'May', 'June', 'July', 'August', 'September', 'October', 'November', 'December'], rotation=45)\n",
        "plt.show()"
      ],
      "metadata": {
        "colab": {
          "base_uri": "https://localhost:8080/",
          "height": 614
        },
        "id": "ZOeDedd036rY",
        "outputId": "dadfb002-5411-479f-8f63-268bd45b8acb"
      },
      "execution_count": 66,
      "outputs": [
        {
          "output_type": "display_data",
          "data": {
            "text/plain": [
              "<Figure size 1000x600 with 1 Axes>"
            ],
            "image/png": "[encoded data removed]"
          },
          "metadata": {}
        }
      ]
    },
    {
      "cell_type": "code",
      "source": [
        "plt.figure(figsize=(10, 6))\n",
        "accidents_data.index.dayofweek.value_counts().sort_index().plot(kind='bar',color = \"yellow\")\n",
        "plt.title('Distribution of Accidents based on Day of the Week')\n",
        "plt.xlabel('Day of the Week')\n",
        "plt.ylabel('Number of Accidents')\n",
        "plt.xticks(range(7), ['Monday', 'Tuesday', 'Wednesday', 'Thursday', 'Friday', 'Saturday', 'Sunday'], rotation=45)\n",
        "plt.show()"
      ],
      "metadata": {
        "colab": {
          "base_uri": "https://localhost:8080/",
          "height": 617
        },
        "id": "622jM40q5TnQ",
        "outputId": "fd9eb16b-40f3-4e96-fb1d-fc2cd5463df6"
      },
      "execution_count": 68,
      "outputs": [
        {
          "output_type": "display_data",
          "data": {
            "text/plain": [
              "<Figure size 1000x600 with 1 Axes>"
            ],
            "image/png": "[encoded data removed]"
          },
          "metadata": {}
        }
      ]
    },
    {
      "cell_type": "code",
      "source": [],
      "metadata": {
        "id": "MmVDPyNQ5g8g"
      },
      "execution_count": null,
      "outputs": []
    }
  ]
}